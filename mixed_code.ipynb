{
  "nbformat": 4,
  "nbformat_minor": 0,
  "metadata": {
    "colab": {
      "provenance": [],
      "authorship_tag": "ABX9TyMJJ4pPYFewcLNY61RHeQJp",
      "include_colab_link": true
    },
    "kernelspec": {
      "name": "python3",
      "display_name": "Python 3"
    },
    "language_info": {
      "name": "python"
    }
  },
  "cells": [
    {
      "cell_type": "markdown",
      "metadata": {
        "id": "view-in-github",
        "colab_type": "text"
      },
      "source": [
        "<a href=\"https://colab.research.google.com/github/keduog/LLM/blob/main/mixed_code.ipynb\" target=\"_parent\"><img src=\"https://colab.research.google.com/assets/colab-badge.svg\" alt=\"Open In Colab\"/></a>"
      ]
    },
    {
      "cell_type": "code",
      "execution_count": 6,
      "metadata": {
        "colab": {
          "base_uri": "https://localhost:8080/"
        },
        "id": "mKS_9lLLtPbe",
        "outputId": "d5cc3124-cea3-465d-e7e2-e1af50c59802"
      },
      "outputs": [
        {
          "output_type": "stream",
          "name": "stdout",
          "text": [
            "Requirement already satisfied: amseg in /usr/local/lib/python3.11/dist-packages (2.3)\n"
          ]
        }
      ],
      "source": [
        "pip install amseg"
      ]
    },
    {
      "cell_type": "code",
      "source": [
        "#!pip install amseg\n",
        "from amseg.amharicTranslitrator import AmharicTranslitrator as  transliterator\n",
        "transliterated = transliterator.transliterate('ነህ how are ዛሬ today')\n",
        "print(transliterated)"
      ],
      "metadata": {
        "colab": {
          "base_uri": "https://localhost:8080/"
        },
        "id": "c0a44CUptWIs",
        "outputId": "5f0e0f98-5b4e-4ce1-c953-36aecaff9e7b"
      },
      "execution_count": 7,
      "outputs": [
        {
          "output_type": "stream",
          "name": "stdout",
          "text": [
            "ነህ ሆው አረ ዛሬ ቶዳይ\n"
          ]
        }
      ]
    },
    {
      "cell_type": "code",
      "source": [],
      "metadata": {
        "id": "Fi1HVdxIb18y"
      },
      "execution_count": null,
      "outputs": []
    },
    {
      "cell_type": "code",
      "source": [
        "# Step 1: Install ICU (required only once)\n",
        "!sudo apt-get install libicu-dev\n",
        "!pip install pyicu\n",
        "\n",
        "# Step 2: Full Transliteration Code\n",
        "from icu import Transliterator\n",
        "import unicodedata\n",
        "\n",
        "def remove_diacritics(text):\n",
        "    \"\"\"Converts accented characters to plain ASCII equivalents\"\"\"\n",
        "    normalized = unicodedata.normalize('NFKD', text)\n",
        "    return ''.join([c for c in normalized if not unicodedata.combining(c)])\n",
        "\n",
        "def transliterate_amharic_to_plain_latin(amharic_text):\n",
        "    \"\"\"Converts Amharic to clean Latin script without diacritics\"\"\"\n",
        "    # ICU transliteration (produces diacritics)\n",
        "    trans = Transliterator.createInstance(\"Amharic-Latin/BGN\")\n",
        "    latin_with_accents = trans.transliterate(amharic_text)\n",
        "\n",
        "    # Remove accents/diacritics\n",
        "    plain_latin = remove_diacritics(latin_with_accents)\n",
        "    return plain_latin\n",
        "\n",
        "# Example Usage\n",
        "amharic_text = \"በአንዲህ አይነት R/Ship ውስጥ እያለፉቹ ያላቹ ወንድማዊ ምክር ምከሩኝ ፣ ምንም ፍቅራችን ለማስቀጠል አልቻልንም ቲናንሽ ግጭቶች ይጎላሉ ፣ የአቅሜን ባደረግም የፍቅር አጋሬ ልትጨበጥልኝ አልቻለችም 4 አመት አሳልፈናል ብዙ ይቅር የማይባሉ ነገሮችን ይቅር ብያለሁ ፣ ስሜቷ ሊገባኝም አልቻለም ፣ ስሜት አለኝም / የለኝም አትልም በቃ ቆርጦልኝ ከተለያየን በኋላ ከወራት በኋላ ሠላምታ ትጠይቀኛል ፣ ደስተኛ እንዳልሆነችም ትነግረኛለች አሳዝናኝ ስቀርባት ትርቀኛለች ፣ ስትረቀኝ በብዙ ሰቃ ውስጥ አልፌ ከእራሴ ጋ ሆኜ ሠላም ሳገኝ ፤ ትመጣለች ስትመጣም አረፉ አትቀመጥም ፣ በፀሎትም ፣ በተለያዩ ነገሮችም እራሳችን ለማበርታት እየሞከርኩ ነው ግን ከምር አሁን አሁን ምንም ነገሮች ሊገብኝ አልቻሉም + Avoidant Attachment Behavior አለባት ከተረዳሁት ነገር ፣ ከልብ የመነጨ ምክራቹን ለወንድማቹ ለግሱት አደራ ከስድብ ነፃ የሆነ ካሳለፉቹት የሕይወት ልምድም ።\"  # \"How are you?\"\n",
        "latin_result = transliterate_amharic_to_plain_latin(amharic_text)\n",
        "print(latin_result)  # Output: \"inideti nehi\" (no diacritics)"
      ],
      "metadata": {
        "colab": {
          "base_uri": "https://localhost:8080/"
        },
        "id": "OVQPAxWvBggy",
        "outputId": "00f6048d-259d-4376-aed4-cd9011aaddf2"
      },
      "execution_count": 26,
      "outputs": [
        {
          "output_type": "stream",
          "name": "stdout",
          "text": [
            "Reading package lists... Done\n",
            "Building dependency tree... Done\n",
            "Reading state information... Done\n",
            "libicu-dev is already the newest version (70.1-2).\n",
            "0 upgraded, 0 newly installed, 0 to remove and 34 not upgraded.\n",
            "Requirement already satisfied: pyicu in /usr/local/lib/python3.11/dist-packages (2.15.2)\n",
            "be’anidihi ayineti R/Ship wisit’i iyalefuchu yalachu wenidimawi mikiri mikerunyi ፣ minimi fik’irachini lemasik’et’eli alichalinimi tinanishi gich’itochi yigolalu ፣ ye’ak’imeni baderegimi yefik’iri agare litich’ebet’ilinyi alichalechimi 4 ameti asalifenali bizu yik’iri yemayibalu negerochini yik’iri biyalehu ፣ simetwa ligebanyimi alichalemi ፣ simeti alenyimi / yelenyimi atilimi bek’a k’orit’olinyi keteleyayeni behwala kewerati behwala selamita tit’eyik’enyali ፣ desitenya inidalihonechimi tinegirenyalechi asazinanyi sik’eribati tirik’enyalechi ፣ sitirek’enyi bebizu sek’a wisit’i alife ke’irase ga honye selami sagenyi ፤ timet’alechi sitimet’ami arefu atik’emet’imi ፣ bets’elotimi ፣ beteleyayu negerochimi irasachini lemaberitati iyemokeriku newi gini kemiri ahuni ahuni minimi negerochi ligebinyi alichalumi + Avoidant Attachment Behavior alebati keteredahuti negeri ፣ kelibi yemenech’e mikirachuni lewenidimachu legisuti adera kesidibi nets’a yehone kasalefuchuti yehiyiweti limidimi ።\n"
          ]
        }
      ]
    },
    {
      "cell_type": "code",
      "source": [
        "# Step 1: Install ICU (required only once)\n",
        "!sudo apt-get install libicu-dev\n",
        "!pip install pyicu\n",
        "\n",
        "# Step 2: Full Transliteration Code\n",
        "from icu import Transliterator\n",
        "import unicodedata\n",
        "\n",
        "def remove_diacritics_and_apostrophes(text):\n",
        "    \"\"\"Converts accented characters to plain ASCII and removes apostrophes\"\"\"\n",
        "    # Remove diacritics\n",
        "    normalized = unicodedata.normalize('NFKD', text)\n",
        "    no_accents = ''.join([c for c in normalized if not unicodedata.combining(c)])\n",
        "\n",
        "    # Remove apostrophes\n",
        "    no_apostrophes = no_accents.replace(\"'\", \"\").replace(\"’\", \"\")\n",
        "    return no_apostrophes\n",
        "\n",
        "def transliterate_amharic_to_plain_latin(amharic_text):\n",
        "    \"\"\"Converts Amharic to clean Latin script without diacritics or apostrophes\"\"\"\n",
        "    # ICU transliteration (produces diacritics)\n",
        "    trans = Transliterator.createInstance(\"Amharic-Latin/BGN\")\n",
        "    latin_with_accents = trans.transliterate(amharic_text)\n",
        "\n",
        "    # Remove accents/diacritics and apostrophes\n",
        "    plain_latin = remove_diacritics_and_apostrophes(latin_with_accents)\n",
        "    return plain_latin\n",
        "\n",
        "# Example Usage\n",
        "amharic_text = \"በአንዲህ አይነት R/Ship ውስጥ እያለፉቹ ያላቹ ወንድማዊ ምክር ምከሩኝ ፣ ምንም ፍቅራችን ለማስቀጠል አልቻልንም ቲናንሽ ግጭቶች ይጎላሉ ፣ የአቅሜን ባደረግም የፍቅር አጋሬ ልትጨበጥልኝ አልቻለችም 4 አመት አሳልፈናል ብዙ ይቅር የማይባሉ ነገሮችን ይቅር ብያለሁ ፣ ስሜቷ ሊገባኝም አልቻለም ፣ ስሜት አለኝም / የለኝም አትልም በቃ ቆርጦልኝ ከተለያየን በኋላ ከወራት በኋላ ሠላምታ ትጠይቀኛል ፣ ደስተኛ እንዳልሆነችም ትነግረኛለች አሳዝናኝ ስቀርባት ትርቀኛለች ፣ ስትረቀኝ በብዙ ሰቃ ውስጥ አልፌ ከእራሴ ጋ ሆኜ ሠላም ሳገኝ ፤ ትመጣለች ስትመጣም አረፉ አትቀመጥም ፣ በፀሎትም ፣ በተለያዩ ነገሮችም እራሳችን ለማበርታት እየሞከርኩ ነው ግን ከምር አሁን አሁን ምንም ነገሮች ሊገብኝ አልቻሉም + Avoidant Attachment Behavior አለባት ከተረዳሁት ነገር ፣ ከልብ የመነጨ ምክራቹን ለወንድማቹ ለግሱት አደራ ከስድብ ነፃ የሆነ ካሳለፉቹት የሕይወት ልምድም ።\"  # \"How are you?\" with apostrophe\n",
        "latin_result = transliterate_amharic_to_plain_latin(amharic_text)\n",
        "print(latin_result)  # Output: \"inideti nehi\" (no diacritics or apostrophes)"
      ],
      "metadata": {
        "colab": {
          "base_uri": "https://localhost:8080/"
        },
        "id": "farTBHm9JhEa",
        "outputId": "33a19680-f38d-4b59-a3e4-72d19ef1f880"
      },
      "execution_count": 4,
      "outputs": [
        {
          "output_type": "stream",
          "name": "stdout",
          "text": [
            "Reading package lists... Done\n",
            "Building dependency tree... Done\n",
            "Reading state information... Done\n",
            "libicu-dev is already the newest version (70.1-2).\n",
            "0 upgraded, 0 newly installed, 0 to remove and 34 not upgraded.\n",
            "Requirement already satisfied: pyicu in /usr/local/lib/python3.11/dist-packages (2.15.2)\n",
            "beanidihi ayineti R/Ship wisiti iyalefuchu yalachu wenidimawi mikiri mikerunyi ፣ minimi fikirachini lemasiketeli alichalinimi tinanishi gichitochi yigolalu ፣ yeakimeni baderegimi yefikiri agare litichebetilinyi alichalechimi 4 ameti asalifenali bizu yikiri yemayibalu negerochini yikiri biyalehu ፣ simetwa ligebanyimi alichalemi ፣ simeti alenyimi / yelenyimi atilimi beka koritolinyi keteleyayeni behwala kewerati behwala selamita titeyikenyali ፣ desitenya inidalihonechimi tinegirenyalechi asazinanyi sikeribati tirikenyalechi ፣ sitirekenyi bebizu seka wisiti alife keirase ga honye selami sagenyi ፤ timetalechi sitimetami arefu atikemetimi ፣ betselotimi ፣ beteleyayu negerochimi irasachini lemaberitati iyemokeriku newi gini kemiri ahuni ahuni minimi negerochi ligebinyi alichalumi + Avoidant Attachment Behavior alebati keteredahuti negeri ፣ kelibi yemeneche mikirachuni lewenidimachu legisuti adera kesidibi netsa yehone kasalefuchuti yehiyiweti limidimi ።\n"
          ]
        }
      ]
    },
    {
      "cell_type": "code",
      "source": [
        "from icu import Transliterator\n",
        "\n",
        "# Geez → Latin\n",
        "trans = Transliterator.createInstance(\"Amharic-Latin/BGN\")\n",
        "amharic_text = \"እንዴት ነህ\"\n",
        "latin_text = trans.transliterate(amharic_text)\n",
        "print(latin_text)  # Output: \"inidēti nehi\""
      ],
      "metadata": {
        "colab": {
          "base_uri": "https://localhost:8080/"
        },
        "id": "7BaxdrPwGx9E",
        "outputId": "afb5a627-8cf8-4964-f883-c6dbb7c2c0d8"
      },
      "execution_count": 22,
      "outputs": [
        {
          "output_type": "stream",
          "name": "stdout",
          "text": [
            "inidēti nehi\n"
          ]
        }
      ]
    },
    {
      "cell_type": "code",
      "source": [
        "!pip install googletrans==4.0.0-rc1 numpy\n",
        "!python -m googletrans --version  # Verify installation"
      ],
      "metadata": {
        "colab": {
          "base_uri": "https://localhost:8080/",
          "height": 1000
        },
        "id": "Oqkfca9bb5RW",
        "outputId": "1e2cb11b-612d-4dc7-e67a-b314ae3e566f"
      },
      "execution_count": 31,
      "outputs": [
        {
          "output_type": "stream",
          "name": "stdout",
          "text": [
            "Collecting googletrans==4.0.0-rc1\n",
            "  Downloading googletrans-4.0.0rc1.tar.gz (20 kB)\n",
            "  Preparing metadata (setup.py) ... \u001b[?25l\u001b[?25hdone\n",
            "Requirement already satisfied: numpy in /usr/local/lib/python3.11/dist-packages (2.0.2)\n",
            "Collecting httpx==0.13.3 (from googletrans==4.0.0-rc1)\n",
            "  Downloading httpx-0.13.3-py3-none-any.whl.metadata (25 kB)\n",
            "Requirement already satisfied: certifi in /usr/local/lib/python3.11/dist-packages (from httpx==0.13.3->googletrans==4.0.0-rc1) (2025.4.26)\n",
            "Collecting hstspreload (from httpx==0.13.3->googletrans==4.0.0-rc1)\n",
            "  Downloading hstspreload-2025.1.1-py3-none-any.whl.metadata (2.1 kB)\n",
            "Requirement already satisfied: sniffio in /usr/local/lib/python3.11/dist-packages (from httpx==0.13.3->googletrans==4.0.0-rc1) (1.3.1)\n",
            "Collecting chardet==3.* (from httpx==0.13.3->googletrans==4.0.0-rc1)\n",
            "  Downloading chardet-3.0.4-py2.py3-none-any.whl.metadata (3.2 kB)\n",
            "Collecting idna==2.* (from httpx==0.13.3->googletrans==4.0.0-rc1)\n",
            "  Downloading idna-2.10-py2.py3-none-any.whl.metadata (9.1 kB)\n",
            "Collecting rfc3986<2,>=1.3 (from httpx==0.13.3->googletrans==4.0.0-rc1)\n",
            "  Downloading rfc3986-1.5.0-py2.py3-none-any.whl.metadata (6.5 kB)\n",
            "Collecting httpcore==0.9.* (from httpx==0.13.3->googletrans==4.0.0-rc1)\n",
            "  Downloading httpcore-0.9.1-py3-none-any.whl.metadata (4.6 kB)\n",
            "Collecting h11<0.10,>=0.8 (from httpcore==0.9.*->httpx==0.13.3->googletrans==4.0.0-rc1)\n",
            "  Downloading h11-0.9.0-py2.py3-none-any.whl.metadata (8.1 kB)\n",
            "Collecting h2==3.* (from httpcore==0.9.*->httpx==0.13.3->googletrans==4.0.0-rc1)\n",
            "  Downloading h2-3.2.0-py2.py3-none-any.whl.metadata (32 kB)\n",
            "Collecting hyperframe<6,>=5.2.0 (from h2==3.*->httpcore==0.9.*->httpx==0.13.3->googletrans==4.0.0-rc1)\n",
            "  Downloading hyperframe-5.2.0-py2.py3-none-any.whl.metadata (7.2 kB)\n",
            "Collecting hpack<4,>=3.0 (from h2==3.*->httpcore==0.9.*->httpx==0.13.3->googletrans==4.0.0-rc1)\n",
            "  Downloading hpack-3.0.0-py2.py3-none-any.whl.metadata (7.0 kB)\n",
            "Downloading httpx-0.13.3-py3-none-any.whl (55 kB)\n",
            "\u001b[2K   \u001b[90m━━━━━━━━━━━━━━━━━━━━━━━━━━━━━━━━━━━━━━━━\u001b[0m \u001b[32m55.1/55.1 kB\u001b[0m \u001b[31m6.2 MB/s\u001b[0m eta \u001b[36m0:00:00\u001b[0m\n",
            "\u001b[?25hDownloading chardet-3.0.4-py2.py3-none-any.whl (133 kB)\n",
            "\u001b[2K   \u001b[90m━━━━━━━━━━━━━━━━━━━━━━━━━━━━━━━━━━━━━━━━\u001b[0m \u001b[32m133.4/133.4 kB\u001b[0m \u001b[31m9.6 MB/s\u001b[0m eta \u001b[36m0:00:00\u001b[0m\n",
            "\u001b[?25hDownloading httpcore-0.9.1-py3-none-any.whl (42 kB)\n",
            "\u001b[2K   \u001b[90m━━━━━━━━━━━━━━━━━━━━━━━━━━━━━━━━━━━━━━━━\u001b[0m \u001b[32m42.6/42.6 kB\u001b[0m \u001b[31m4.3 MB/s\u001b[0m eta \u001b[36m0:00:00\u001b[0m\n",
            "\u001b[?25hDownloading idna-2.10-py2.py3-none-any.whl (58 kB)\n",
            "\u001b[2K   \u001b[90m━━━━━━━━━━━━━━━━━━━━━━━━━━━━━━━━━━━━━━━━\u001b[0m \u001b[32m58.8/58.8 kB\u001b[0m \u001b[31m6.4 MB/s\u001b[0m eta \u001b[36m0:00:00\u001b[0m\n",
            "\u001b[?25hDownloading h2-3.2.0-py2.py3-none-any.whl (65 kB)\n",
            "\u001b[2K   \u001b[90m━━━━━━━━━━━━━━━━━━━━━━━━━━━━━━━━━━━━━━━━\u001b[0m \u001b[32m65.0/65.0 kB\u001b[0m \u001b[31m6.9 MB/s\u001b[0m eta \u001b[36m0:00:00\u001b[0m\n",
            "\u001b[?25hDownloading rfc3986-1.5.0-py2.py3-none-any.whl (31 kB)\n",
            "Downloading hstspreload-2025.1.1-py3-none-any.whl (1.3 MB)\n",
            "\u001b[2K   \u001b[90m━━━━━━━━━━━━━━━━━━━━━━━━━━━━━━━━━━━━━━━━\u001b[0m \u001b[32m1.3/1.3 MB\u001b[0m \u001b[31m43.3 MB/s\u001b[0m eta \u001b[36m0:00:00\u001b[0m\n",
            "\u001b[?25hDownloading h11-0.9.0-py2.py3-none-any.whl (53 kB)\n",
            "\u001b[2K   \u001b[90m━━━━━━━━━━━━━━━━━━━━━━━━━━━━━━━━━━━━━━━━\u001b[0m \u001b[32m53.6/53.6 kB\u001b[0m \u001b[31m5.5 MB/s\u001b[0m eta \u001b[36m0:00:00\u001b[0m\n",
            "\u001b[?25hDownloading hpack-3.0.0-py2.py3-none-any.whl (38 kB)\n",
            "Downloading hyperframe-5.2.0-py2.py3-none-any.whl (12 kB)\n",
            "Building wheels for collected packages: googletrans\n",
            "  Building wheel for googletrans (setup.py) ... \u001b[?25l\u001b[?25hdone\n",
            "  Created wheel for googletrans: filename=googletrans-4.0.0rc1-py3-none-any.whl size=17396 sha256=19d561ac076cbd8b04c0ae787ee248f6239929cdf0552174355923bbd4ee9a7f\n",
            "  Stored in directory: /root/.cache/pip/wheels/39/17/6f/66a045ea3d168826074691b4b787b8f324d3f646d755443fda\n",
            "Successfully built googletrans\n",
            "Installing collected packages: rfc3986, hyperframe, hpack, h11, chardet, idna, hstspreload, h2, httpcore, httpx, googletrans\n",
            "  Attempting uninstall: hyperframe\n",
            "    Found existing installation: hyperframe 6.1.0\n",
            "    Uninstalling hyperframe-6.1.0:\n",
            "      Successfully uninstalled hyperframe-6.1.0\n",
            "  Attempting uninstall: hpack\n",
            "    Found existing installation: hpack 4.1.0\n",
            "    Uninstalling hpack-4.1.0:\n",
            "      Successfully uninstalled hpack-4.1.0\n",
            "  Attempting uninstall: h11\n",
            "    Found existing installation: h11 0.16.0\n",
            "    Uninstalling h11-0.16.0:\n",
            "      Successfully uninstalled h11-0.16.0\n",
            "  Attempting uninstall: chardet\n",
            "    Found existing installation: chardet 5.2.0\n",
            "    Uninstalling chardet-5.2.0:\n",
            "      Successfully uninstalled chardet-5.2.0\n",
            "  Attempting uninstall: idna\n",
            "    Found existing installation: idna 3.10\n",
            "    Uninstalling idna-3.10:\n",
            "      Successfully uninstalled idna-3.10\n",
            "  Attempting uninstall: h2\n",
            "    Found existing installation: h2 4.2.0\n",
            "    Uninstalling h2-4.2.0:\n",
            "      Successfully uninstalled h2-4.2.0\n",
            "  Attempting uninstall: httpcore\n",
            "    Found existing installation: httpcore 1.0.9\n",
            "    Uninstalling httpcore-1.0.9:\n",
            "      Successfully uninstalled httpcore-1.0.9\n",
            "  Attempting uninstall: httpx\n",
            "    Found existing installation: httpx 0.28.1\n",
            "    Uninstalling httpx-0.28.1:\n",
            "      Successfully uninstalled httpx-0.28.1\n",
            "\u001b[31mERROR: pip's dependency resolver does not currently take into account all the packages that are installed. This behaviour is the source of the following dependency conflicts.\n",
            "langsmith 0.3.39 requires httpx<1,>=0.23.0, but you have httpx 0.13.3 which is incompatible.\n",
            "openai 1.76.2 requires httpx<1,>=0.23.0, but you have httpx 0.13.3 which is incompatible.\n",
            "google-genai 1.13.0 requires httpx<1.0.0,>=0.28.1, but you have httpx 0.13.3 which is incompatible.\u001b[0m\u001b[31m\n",
            "\u001b[0mSuccessfully installed chardet-3.0.4 googletrans-4.0.0rc1 h11-0.9.0 h2-3.2.0 hpack-3.0.0 hstspreload-2025.1.1 httpcore-0.9.1 httpx-0.13.3 hyperframe-5.2.0 idna-2.10 rfc3986-1.5.0\n"
          ]
        },
        {
          "output_type": "display_data",
          "data": {
            "application/vnd.colab-display-data+json": {
              "pip_warning": {
                "packages": [
                  "chardet",
                  "idna"
                ]
              },
              "id": "1904507550df43b88c8c89854973a89b"
            }
          },
          "metadata": {}
        },
        {
          "output_type": "stream",
          "name": "stdout",
          "text": [
            "/usr/bin/python3: No module named googletrans.__main__; 'googletrans' is a package and cannot be directly executed\n"
          ]
        }
      ]
    },
    {
      "cell_type": "code",
      "source": [
        "!pip install googletrans==4.0.0-rc1 numpy\n",
        "!python -m googletrans --version  # Verify installation\n",
        "import random\n",
        "\n",
        "# Define word lists (expand with more words)\n",
        "english_words = [\"hello\", \"how\", \"are\", \"you\", \"today\", \"good\", \"morning\", \"what\", \"name\", \"my\"]\n",
        "amharic_words = [\"ሰላም\", \"እንዴት\", \"ነህ\", \"አንተ\", \"ዛሬ\", \"ጥሩ\", \"እድሜ\", \"ምን\", \"ስም\", \"የኔ\"]\n",
        "\n",
        "def static_code_mixer(sentence, english_words, amharic_words, switch_prob=0.4):\n",
        "    \"\"\"\n",
        "    Randomly replaces English words with Amharic words from predefined lists.\n",
        "    \"\"\"\n",
        "    words = sentence.split()\n",
        "    mixed_sentence = []\n",
        "\n",
        "    for word in words:\n",
        "        if word.lower() in english_words and random.random() < switch_prob:\n",
        "            mixed_sentence.append(random.choice(amharic_words))\n",
        "        else:\n",
        "            mixed_sentence.append(word)\n",
        "\n",
        "    return ' '.join(mixed_sentence)\n",
        "\n",
        "# Example usage\n",
        "input_sentence = \"hello how are you today\"\n",
        "mixed_static = static_code_mixer(input_sentence, english_words, amharic_words)\n",
        "print(\"Original: \", input_sentence)\n",
        "print(\"Static Mixed: \", mixed_static)"
      ],
      "metadata": {
        "colab": {
          "base_uri": "https://localhost:8080/"
        },
        "id": "v8u71SchcAwZ",
        "outputId": "ee2743c4-9a26-450c-ef75-99c04f49209f"
      },
      "execution_count": 2,
      "outputs": [
        {
          "output_type": "stream",
          "name": "stdout",
          "text": [
            "Requirement already satisfied: googletrans==4.0.0-rc1 in /usr/local/lib/python3.11/dist-packages (4.0.0rc1)\n",
            "Requirement already satisfied: numpy in /usr/local/lib/python3.11/dist-packages (2.0.2)\n",
            "Requirement already satisfied: httpx==0.13.3 in /usr/local/lib/python3.11/dist-packages (from googletrans==4.0.0-rc1) (0.13.3)\n",
            "Requirement already satisfied: certifi in /usr/local/lib/python3.11/dist-packages (from httpx==0.13.3->googletrans==4.0.0-rc1) (2025.4.26)\n",
            "Requirement already satisfied: hstspreload in /usr/local/lib/python3.11/dist-packages (from httpx==0.13.3->googletrans==4.0.0-rc1) (2025.1.1)\n",
            "Requirement already satisfied: sniffio in /usr/local/lib/python3.11/dist-packages (from httpx==0.13.3->googletrans==4.0.0-rc1) (1.3.1)\n",
            "Requirement already satisfied: chardet==3.* in /usr/local/lib/python3.11/dist-packages (from httpx==0.13.3->googletrans==4.0.0-rc1) (3.0.4)\n",
            "Requirement already satisfied: idna==2.* in /usr/local/lib/python3.11/dist-packages (from httpx==0.13.3->googletrans==4.0.0-rc1) (2.10)\n",
            "Requirement already satisfied: rfc3986<2,>=1.3 in /usr/local/lib/python3.11/dist-packages (from httpx==0.13.3->googletrans==4.0.0-rc1) (1.5.0)\n",
            "Requirement already satisfied: httpcore==0.9.* in /usr/local/lib/python3.11/dist-packages (from httpx==0.13.3->googletrans==4.0.0-rc1) (0.9.1)\n",
            "Requirement already satisfied: h11<0.10,>=0.8 in /usr/local/lib/python3.11/dist-packages (from httpcore==0.9.*->httpx==0.13.3->googletrans==4.0.0-rc1) (0.9.0)\n",
            "Requirement already satisfied: h2==3.* in /usr/local/lib/python3.11/dist-packages (from httpcore==0.9.*->httpx==0.13.3->googletrans==4.0.0-rc1) (3.2.0)\n",
            "Requirement already satisfied: hyperframe<6,>=5.2.0 in /usr/local/lib/python3.11/dist-packages (from h2==3.*->httpcore==0.9.*->httpx==0.13.3->googletrans==4.0.0-rc1) (5.2.0)\n",
            "Requirement already satisfied: hpack<4,>=3.0 in /usr/local/lib/python3.11/dist-packages (from h2==3.*->httpcore==0.9.*->httpx==0.13.3->googletrans==4.0.0-rc1) (3.0.0)\n",
            "/usr/bin/python3: No module named googletrans.__main__; 'googletrans' is a package and cannot be directly executed\n",
            "Original:  hello how are you today\n",
            "Static Mixed:  ነህ how are ዛሬ today\n"
          ]
        }
      ]
    },
    {
      "cell_type": "code",
      "source": [
        "!pip install googletrans==4.0.0-rc1 numpy\n",
        "!python -m googletrans --version  # Verify installation\n",
        "from googletrans import Translator\n",
        "\n",
        "translator = Translator()\n",
        "\n",
        "def translate_word(word, src='en', dest='am'):\n",
        "    \"\"\"Translates a single word to Amharic.\"\"\"\n",
        "    try:\n",
        "        return translator.translate(word, src=src, dest=dest).text\n",
        "    except:\n",
        "        return word  # Fallback if translation fails\n",
        "\n",
        "def dynamic_code_mixer(sentence, switch_prob=0.4):\n",
        "    \"\"\"\n",
        "    Dynamically translates English words to Amharic with a given probability.\n",
        "    \"\"\"\n",
        "    words = sentence.split()\n",
        "    mixed_sentence = []\n",
        "\n",
        "    for word in words:\n",
        "        if random.random() < switch_prob:\n",
        "            mixed_sentence.append(translate_word(word))\n",
        "        else:\n",
        "            mixed_sentence.append(word)\n",
        "\n",
        "    return ' '.join(mixed_sentence)\n",
        "\n",
        "# Example usage\n",
        "mixed_dynamic = dynamic_code_mixer(\"good morning what is your name\", switch_prob=0.5)\n",
        "print(\"\\nDynamic Mixed: \", mixed_dynamic)"
      ],
      "metadata": {
        "colab": {
          "base_uri": "https://localhost:8080/"
        },
        "id": "02qfEO8FdZIv",
        "outputId": "9ada5709-8c60-4d7c-ce9b-490f662f6d02"
      },
      "execution_count": 3,
      "outputs": [
        {
          "output_type": "stream",
          "name": "stdout",
          "text": [
            "Requirement already satisfied: googletrans==4.0.0-rc1 in /usr/local/lib/python3.11/dist-packages (4.0.0rc1)\n",
            "Requirement already satisfied: numpy in /usr/local/lib/python3.11/dist-packages (2.0.2)\n",
            "Requirement already satisfied: httpx==0.13.3 in /usr/local/lib/python3.11/dist-packages (from googletrans==4.0.0-rc1) (0.13.3)\n",
            "Requirement already satisfied: certifi in /usr/local/lib/python3.11/dist-packages (from httpx==0.13.3->googletrans==4.0.0-rc1) (2025.4.26)\n",
            "Requirement already satisfied: hstspreload in /usr/local/lib/python3.11/dist-packages (from httpx==0.13.3->googletrans==4.0.0-rc1) (2025.1.1)\n",
            "Requirement already satisfied: sniffio in /usr/local/lib/python3.11/dist-packages (from httpx==0.13.3->googletrans==4.0.0-rc1) (1.3.1)\n",
            "Requirement already satisfied: chardet==3.* in /usr/local/lib/python3.11/dist-packages (from httpx==0.13.3->googletrans==4.0.0-rc1) (3.0.4)\n",
            "Requirement already satisfied: idna==2.* in /usr/local/lib/python3.11/dist-packages (from httpx==0.13.3->googletrans==4.0.0-rc1) (2.10)\n",
            "Requirement already satisfied: rfc3986<2,>=1.3 in /usr/local/lib/python3.11/dist-packages (from httpx==0.13.3->googletrans==4.0.0-rc1) (1.5.0)\n",
            "Requirement already satisfied: httpcore==0.9.* in /usr/local/lib/python3.11/dist-packages (from httpx==0.13.3->googletrans==4.0.0-rc1) (0.9.1)\n",
            "Requirement already satisfied: h11<0.10,>=0.8 in /usr/local/lib/python3.11/dist-packages (from httpcore==0.9.*->httpx==0.13.3->googletrans==4.0.0-rc1) (0.9.0)\n",
            "Requirement already satisfied: h2==3.* in /usr/local/lib/python3.11/dist-packages (from httpcore==0.9.*->httpx==0.13.3->googletrans==4.0.0-rc1) (3.2.0)\n",
            "Requirement already satisfied: hyperframe<6,>=5.2.0 in /usr/local/lib/python3.11/dist-packages (from h2==3.*->httpcore==0.9.*->httpx==0.13.3->googletrans==4.0.0-rc1) (5.2.0)\n",
            "Requirement already satisfied: hpack<4,>=3.0 in /usr/local/lib/python3.11/dist-packages (from h2==3.*->httpcore==0.9.*->httpx==0.13.3->googletrans==4.0.0-rc1) (3.0.0)\n",
            "/usr/bin/python3: No module named googletrans.__main__; 'googletrans' is a package and cannot be directly executed\n",
            "\n",
            "Dynamic Mixed:  good ጠዋት what is your name\n"
          ]
        }
      ]
    }
  ]
}